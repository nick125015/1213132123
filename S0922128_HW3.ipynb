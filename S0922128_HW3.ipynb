{
  "cells": [
    {
      "cell_type": "markdown",
      "metadata": {
        "id": "view-in-github",
        "colab_type": "text"
      },
      "source": [
        "<a href=\"https://colab.research.google.com/github/nick125015/1213132123/blob/main/S0922128_HW3.ipynb\" target=\"_parent\"><img src=\"https://colab.research.google.com/assets/colab-badge.svg\" alt=\"Open In Colab\"/></a>"
      ]
    },
    {
      "cell_type": "markdown",
      "source": [
        "### **使用的是鳥的圖片**"
      ],
      "metadata": {
        "id": "6v-24Igsab02"
      }
    },
    {
      "cell_type": "code",
      "source": [
        "\n",
        "\n",
        "!pip install torch torchvision matplotlib numpy pandas\n",
        "!mkdir -p content/quickdraw_data\n",
        "!curl -o content/quickdraw_data/bird.npy https://storage.googleapis.com/quickdraw_dataset/full/numpy_bitmap/bird.npy\n"
      ],
      "metadata": {
        "id": "2vz1rBCoNem9",
        "colab": {
          "base_uri": "https://localhost:8080/"
        },
        "outputId": "7fb9e810-7ac2-4191-c461-0fd045ea922f"
      },
      "execution_count": null,
      "outputs": [
        {
          "output_type": "stream",
          "name": "stdout",
          "text": [
            "Requirement already satisfied: torch in /usr/local/lib/python3.10/dist-packages (2.3.0+cu121)\n",
            "Requirement already satisfied: torchvision in /usr/local/lib/python3.10/dist-packages (0.18.0+cu121)\n",
            "Requirement already satisfied: matplotlib in /usr/local/lib/python3.10/dist-packages (3.7.1)\n",
            "Requirement already satisfied: numpy in /usr/local/lib/python3.10/dist-packages (1.25.2)\n",
            "Requirement already satisfied: pandas in /usr/local/lib/python3.10/dist-packages (2.0.3)\n",
            "Requirement already satisfied: filelock in /usr/local/lib/python3.10/dist-packages (from torch) (3.14.0)\n",
            "Requirement already satisfied: typing-extensions>=4.8.0 in /usr/local/lib/python3.10/dist-packages (from torch) (4.12.2)\n",
            "Requirement already satisfied: sympy in /usr/local/lib/python3.10/dist-packages (from torch) (1.12.1)\n",
            "Requirement already satisfied: networkx in /usr/local/lib/python3.10/dist-packages (from torch) (3.3)\n",
            "Requirement already satisfied: jinja2 in /usr/local/lib/python3.10/dist-packages (from torch) (3.1.4)\n",
            "Requirement already satisfied: fsspec in /usr/local/lib/python3.10/dist-packages (from torch) (2023.6.0)\n",
            "Collecting nvidia-cuda-nvrtc-cu12==12.1.105 (from torch)\n",
            "  Using cached nvidia_cuda_nvrtc_cu12-12.1.105-py3-none-manylinux1_x86_64.whl (23.7 MB)\n",
            "Collecting nvidia-cuda-runtime-cu12==12.1.105 (from torch)\n",
            "  Using cached nvidia_cuda_runtime_cu12-12.1.105-py3-none-manylinux1_x86_64.whl (823 kB)\n",
            "Collecting nvidia-cuda-cupti-cu12==12.1.105 (from torch)\n",
            "  Using cached nvidia_cuda_cupti_cu12-12.1.105-py3-none-manylinux1_x86_64.whl (14.1 MB)\n",
            "Collecting nvidia-cudnn-cu12==8.9.2.26 (from torch)\n",
            "  Using cached nvidia_cudnn_cu12-8.9.2.26-py3-none-manylinux1_x86_64.whl (731.7 MB)\n",
            "Collecting nvidia-cublas-cu12==12.1.3.1 (from torch)\n",
            "  Using cached nvidia_cublas_cu12-12.1.3.1-py3-none-manylinux1_x86_64.whl (410.6 MB)\n",
            "Collecting nvidia-cufft-cu12==11.0.2.54 (from torch)\n",
            "  Using cached nvidia_cufft_cu12-11.0.2.54-py3-none-manylinux1_x86_64.whl (121.6 MB)\n",
            "Collecting nvidia-curand-cu12==10.3.2.106 (from torch)\n",
            "  Using cached nvidia_curand_cu12-10.3.2.106-py3-none-manylinux1_x86_64.whl (56.5 MB)\n",
            "Collecting nvidia-cusolver-cu12==11.4.5.107 (from torch)\n",
            "  Using cached nvidia_cusolver_cu12-11.4.5.107-py3-none-manylinux1_x86_64.whl (124.2 MB)\n",
            "Collecting nvidia-cusparse-cu12==12.1.0.106 (from torch)\n",
            "  Using cached nvidia_cusparse_cu12-12.1.0.106-py3-none-manylinux1_x86_64.whl (196.0 MB)\n",
            "Collecting nvidia-nccl-cu12==2.20.5 (from torch)\n",
            "  Using cached nvidia_nccl_cu12-2.20.5-py3-none-manylinux2014_x86_64.whl (176.2 MB)\n",
            "Collecting nvidia-nvtx-cu12==12.1.105 (from torch)\n",
            "  Using cached nvidia_nvtx_cu12-12.1.105-py3-none-manylinux1_x86_64.whl (99 kB)\n",
            "Requirement already satisfied: triton==2.3.0 in /usr/local/lib/python3.10/dist-packages (from torch) (2.3.0)\n",
            "Collecting nvidia-nvjitlink-cu12 (from nvidia-cusolver-cu12==11.4.5.107->torch)\n",
            "  Downloading nvidia_nvjitlink_cu12-12.5.40-py3-none-manylinux2014_x86_64.whl (21.3 MB)\n",
            "\u001b[2K     \u001b[90m━━━━━━━━━━━━━━━━━━━━━━━━━━━━━━━━━━━━━━━━\u001b[0m \u001b[32m21.3/21.3 MB\u001b[0m \u001b[31m6.5 MB/s\u001b[0m eta \u001b[36m0:00:00\u001b[0m\n",
            "\u001b[?25hRequirement already satisfied: pillow!=8.3.*,>=5.3.0 in /usr/local/lib/python3.10/dist-packages (from torchvision) (9.4.0)\n",
            "Requirement already satisfied: contourpy>=1.0.1 in /usr/local/lib/python3.10/dist-packages (from matplotlib) (1.2.1)\n",
            "Requirement already satisfied: cycler>=0.10 in /usr/local/lib/python3.10/dist-packages (from matplotlib) (0.12.1)\n",
            "Requirement already satisfied: fonttools>=4.22.0 in /usr/local/lib/python3.10/dist-packages (from matplotlib) (4.53.0)\n",
            "Requirement already satisfied: kiwisolver>=1.0.1 in /usr/local/lib/python3.10/dist-packages (from matplotlib) (1.4.5)\n",
            "Requirement already satisfied: packaging>=20.0 in /usr/local/lib/python3.10/dist-packages (from matplotlib) (24.1)\n",
            "Requirement already satisfied: pyparsing>=2.3.1 in /usr/local/lib/python3.10/dist-packages (from matplotlib) (3.1.2)\n",
            "Requirement already satisfied: python-dateutil>=2.7 in /usr/local/lib/python3.10/dist-packages (from matplotlib) (2.8.2)\n",
            "Requirement already satisfied: pytz>=2020.1 in /usr/local/lib/python3.10/dist-packages (from pandas) (2023.4)\n",
            "Requirement already satisfied: tzdata>=2022.1 in /usr/local/lib/python3.10/dist-packages (from pandas) (2024.1)\n",
            "Requirement already satisfied: six>=1.5 in /usr/local/lib/python3.10/dist-packages (from python-dateutil>=2.7->matplotlib) (1.16.0)\n",
            "Requirement already satisfied: MarkupSafe>=2.0 in /usr/local/lib/python3.10/dist-packages (from jinja2->torch) (2.1.5)\n",
            "Requirement already satisfied: mpmath<1.4.0,>=1.1.0 in /usr/local/lib/python3.10/dist-packages (from sympy->torch) (1.3.0)\n",
            "Installing collected packages: nvidia-nvtx-cu12, nvidia-nvjitlink-cu12, nvidia-nccl-cu12, nvidia-curand-cu12, nvidia-cufft-cu12, nvidia-cuda-runtime-cu12, nvidia-cuda-nvrtc-cu12, nvidia-cuda-cupti-cu12, nvidia-cublas-cu12, nvidia-cusparse-cu12, nvidia-cudnn-cu12, nvidia-cusolver-cu12\n",
            "Successfully installed nvidia-cublas-cu12-12.1.3.1 nvidia-cuda-cupti-cu12-12.1.105 nvidia-cuda-nvrtc-cu12-12.1.105 nvidia-cuda-runtime-cu12-12.1.105 nvidia-cudnn-cu12-8.9.2.26 nvidia-cufft-cu12-11.0.2.54 nvidia-curand-cu12-10.3.2.106 nvidia-cusolver-cu12-11.4.5.107 nvidia-cusparse-cu12-12.1.0.106 nvidia-nccl-cu12-2.20.5 nvidia-nvjitlink-cu12-12.5.40 nvidia-nvtx-cu12-12.1.105\n",
            "  % Total    % Received % Xferd  Average Speed   Time    Time     Time  Current\n",
            "                                 Dload  Upload   Total   Spent    Left  Speed\n",
            "100 99.8M  100 99.8M    0     0  92.6M      0  0:00:01  0:00:01 --:--:-- 92.7M\n"
          ]
        }
      ]
    },
    {
      "cell_type": "code",
      "execution_count": null,
      "metadata": {
        "id": "ADAqw6IDGM3L"
      },
      "outputs": [],
      "source": [
        "# 資料輸入輸出所需套件：\n",
        "import numpy as np\n",
        "import os\n",
        "import pandas as pd\n",
        "\n",
        "# 深度學習所需套件：\n",
        "import torch\n",
        "import torch.nn as nn\n",
        "import torch.optim as optim\n",
        "from torch.utils.data import TensorDataset, DataLoader\n",
        "from torchvision import transforms, datasets\n",
        "from torchsummary import summary\n",
        "\n",
        "# 繪圖所需套件：\n",
        "from matplotlib import pyplot as plt\n",
        "from torchvision.utils import make_grid"
      ]
    },
    {
      "cell_type": "markdown",
      "metadata": {
        "id": "cCDO5GStGM3N"
      },
      "source": [
        "#### 載入資料集"
      ]
    },
    {
      "cell_type": "code",
      "execution_count": null,
      "metadata": {
        "id": "AEOazjtEGM3N"
      },
      "outputs": [],
      "source": [
        "data_dir='./content/quickdraw_data'  #請記得依你存放的位置彈性修改路徑\n",
        "input_images = data_dir + \"/bird.npy\""
      ]
    },
    {
      "cell_type": "code",
      "execution_count": null,
      "metadata": {
        "id": "VSGw_uQWGM3O"
      },
      "outputs": [],
      "source": [
        "data = np.load(input_images)"
      ]
    },
    {
      "cell_type": "code",
      "execution_count": null,
      "metadata": {
        "id": "uv5IPu-rGM3O",
        "colab": {
          "base_uri": "https://localhost:8080/"
        },
        "outputId": "0c350260-bf78-420c-f40d-6226494162e4"
      },
      "outputs": [
        {
          "output_type": "execute_result",
          "data": {
            "text/plain": [
              "(133572, 784)"
            ]
          },
          "metadata": {},
          "execution_count": 5
        }
      ],
      "source": [
        "data.shape"
      ]
    },
    {
      "cell_type": "code",
      "execution_count": null,
      "metadata": {
        "id": "hO4BrAYJGM3P",
        "colab": {
          "base_uri": "https://localhost:8080/"
        },
        "outputId": "68c21edd-4046-4384-b2c6-fd399fdd1402"
      },
      "outputs": [
        {
          "output_type": "execute_result",
          "data": {
            "text/plain": [
              "array([  0,   0,   0,   0,   0,   0,   0,   0,   0,   0,   0,   0,   0,\n",
              "         0,   0,   0,   0,   0,   0,   0,   0,   0,   0,   0,   0,   0,\n",
              "         0,   0,   0,   0,   0,   0,   0,   0,   0,   0,   0,   0,   0,\n",
              "         0,   0,   0,   0,   0,   0,  13,  67,  94,  74,   7,   0,   0,\n",
              "         0,   0,   0,   0,   0,   0,   0,   0,   0,   0,   0,   0,   0,\n",
              "         0,   0,   0,   0,   0,   0,   0,  71, 237, 255, 255, 255, 219,\n",
              "        30,   0,   0,   0,   0,   0,   0,   0,   0,   0,   0,   0,   0,\n",
              "         0,   0,   0,   0,   0,   0,   0,   0,  36, 245, 201,  62,  30,\n",
              "        68, 236, 204,   9,   0,   0,   0,   0,   0,   0,   0,   0,   0,\n",
              "         0,   0,   0,   0,   0,   0,   0,   0,   0,   0, 106, 255,  26,\n",
              "         0,   0,   0,  67, 251, 173,  36,   0,   0,   0,   0,   0,   0,\n",
              "         0,   0,   0,   0,   0,   0,   0,   0,   0,   0,   0,   0, 154,\n",
              "       227,   0,   0,   0,   0,  18, 180, 255, 255, 103,   0,   0,   0,\n",
              "         0,   0,   0,   0,   0,   0,   0,   0,   0,   0,   0,   0,   0,\n",
              "         0, 208, 179,   0,   0,   0,  44, 243, 255, 255, 232,  46,   0,\n",
              "         0,   0,   0,   0,   0,   0,   0,   0,   0,   0,   0,   0,   0,\n",
              "         0,   0,  65, 255,  98,   0,   0,   0, 168, 236,  49,  19,   6,\n",
              "         0,   0,   0,   0,   0,   0,   0,   0,   0,   0,   0,   0,   0,\n",
              "         0,   0,   0,  17, 214, 222,   5,   0,   0,  78, 252, 126,   0,\n",
              "         0,   0,   0,   0,   0,   0,   0,   0,   0,   0,  33, 127, 153,\n",
              "       161, 120, 102, 102, 104, 202, 245,  55,   0,   4, 142, 254, 198,\n",
              "        15,   0,   0,   0,   0,   0,   0,   0,   0,   0,   0, 114, 252,\n",
              "       249, 221, 220, 253, 255, 255, 255, 225,  74,   0,   1, 161, 254,\n",
              "       137,   5,   0,   0,   0,   0,   0,   0,   0,   0,   0,   0, 120,\n",
              "       255, 163,  21,   0,   0,  16,  34,  34,  31,   2,   0,   0, 105,\n",
              "       255, 114,   0,   0,   0,   0,   0,   0,   0,   0,   0,   0,   0,\n",
              "        11, 244, 167,   1,   0,   0,   0,   0,   0,   0,   0,   0,   0,\n",
              "         0, 187, 201,   0,   0,   0,   0,   0,   0,   0,   0,   0,   0,\n",
              "         0,   0,  90, 255,  52,   0,   0,   0,   0,   0,   0,   0,   0,\n",
              "         0,   0,   0, 190, 186,   0,   0,   0,   0,   0,   0,   0,   0,\n",
              "         0,   0,   0,   0, 142, 238,   0,   0,   0,   0,   0,   0,   0,\n",
              "         0,   0,   0,   0,   0, 190, 186,   0,   0,   0,   0,   0,   0,\n",
              "         0,   0,   0,   0,   0,   0, 132, 246,   6,   0,   0,   0,   0,\n",
              "         0,   0,   0,   0,   0,   0,   0, 165, 224,   0,   0,   0,   0,\n",
              "         0,   0,   0,   0,   0,   0,   0,   0,  71, 255,  61,   0,   0,\n",
              "         0,   0,   0,   0,   0,   0,   0,   0,   0,  96, 255,  38,   0,\n",
              "         0,   0,   0,   0,   0,   0,   0,   0,   0,   0,  11, 246, 159,\n",
              "         0,   0,   0,   0,   0,   0,   0,   0,   0,   0,   0, 139, 251,\n",
              "        33,   0,   0,   0,   0,   0,   0,   0,   0,   0,   0,   0,   0,\n",
              "       128, 254,  59,   0,   0,   0,   0,   0,   0,   0,   0,   9, 138,\n",
              "       254, 147,   0,   0,   0,   0,   0,   0,   0,   0,   0,   0,   0,\n",
              "         0,   0,   9, 240, 235,  83,  68,  68,  68,  70, 106, 153, 227,\n",
              "       253, 254, 140,   4,   0,   0,   0,   0,   0,   0,   0,   0,   0,\n",
              "         0,   0,   0,   0,   0, 191, 255, 255, 255, 255, 255, 255, 255,\n",
              "       230, 205, 255, 122,   0,   0,   0,   0,   0,   0,   0,   0,   0,\n",
              "         0,   0,   0,   0,   0,   0,   0,   6,  57, 244, 251,  53,  51,\n",
              "        51,  21,   0,   2, 223, 169,   0,   0,   0,   0,   0,   0,   0,\n",
              "         0,   0,   0,   0,   0,   0,   0,   0,   0,   0,   0, 123, 255,\n",
              "         6,   0,   0,   0,   0,   0, 186, 189,   0,   0,   0,   0,   0,\n",
              "         0,   0,   0,   0,   0,   0,   0,   0,   0,   0,   0,   0,   0,\n",
              "       153, 247, 162, 168, 110,  16,   0,   0, 170, 196,   0,   0,   0,\n",
              "         0,   0,   0,   0,   0,   0,   0,   0,   0,   0,   0,   0,   1,\n",
              "        78, 196, 255, 243, 200, 212, 255, 245, 158,  28,  33,  43,   0,\n",
              "         0,   0,   0,   0,   0,   0,   0,   0,   0,   0,   0,   0,   0,\n",
              "         0, 113, 255, 216, 157, 152,   0,   0,  42, 145, 236,  93,   0,\n",
              "         0,   0,   0,   0,   0,   0,   0,   0,   0,   0,   0,   0,   0,\n",
              "         0,   0,   0,  25,  71,   2,   0,   0,   0,   0,   0,   0,   0,\n",
              "         0,   0,   0,   0,   0,   0,   0,   0,   0,   0,   0,   0,   0,\n",
              "         0,   0,   0,   0,   0,   0,   0,   0,   0,   0,   0,   0,   0,\n",
              "         0,   0,   0,   0,   0,   0,   0,   0,   0,   0,   0,   0,   0,\n",
              "         0,   0,   0,   0], dtype=uint8)"
            ]
          },
          "metadata": {},
          "execution_count": 6
        }
      ],
      "source": [
        "data[4242]"
      ]
    },
    {
      "cell_type": "code",
      "execution_count": null,
      "metadata": {
        "id": "eI7VaY5ZGM3P",
        "colab": {
          "base_uri": "https://localhost:8080/"
        },
        "outputId": "ab2b4fa1-f9ac-4a47-fba9-b94731e3071e"
      },
      "outputs": [
        {
          "output_type": "execute_result",
          "data": {
            "text/plain": [
              "(133572, 28, 28, 1)"
            ]
          },
          "metadata": {},
          "execution_count": 7
        }
      ],
      "source": [
        "data = data/255\n",
        "data = np.reshape(data,(data.shape[0],28,28,1))\n",
        "img_w,img_h = data.shape[1:3]\n",
        "data.shape\n"
      ]
    },
    {
      "cell_type": "code",
      "execution_count": null,
      "metadata": {
        "id": "ztq0648KGM3P",
        "colab": {
          "base_uri": "https://localhost:8080/",
          "height": 447
        },
        "outputId": "6469e058-7789-43eb-fac9-56a1bf8d5d36"
      },
      "outputs": [
        {
          "output_type": "execute_result",
          "data": {
            "text/plain": [
              "<matplotlib.image.AxesImage at 0x7f5d9dfc1150>"
            ]
          },
          "metadata": {},
          "execution_count": 8
        },
        {
          "output_type": "display_data",
          "data": {
            "text/plain": [
              "<Figure size 640x480 with 1 Axes>"
            ],
            "image/png": "[encoded data removed]"
          },
          "metadata": {}
        }
      ],
      "source": [
        "plt.imshow(data[4242,:,:,0], cmap='Greys')"
      ]
    },
    {
      "cell_type": "code",
      "execution_count": null,
      "metadata": {
        "id": "i-Kw_0XKGM3Q"
      },
      "outputs": [],
      "source": [
        "# 轉換成pytorch的資料格式\n",
        "data = data.astype(np.float32)  # 將資料類型轉換成float32\n",
        "\n",
        "data = data.reshape(-1, 1, 28, 28)  # 將資料大小重新Resize到四維的28*28 [N(batchsize), Channels, Height, Width]\n",
        "\n",
        "# 将numpy轉換成torch張量\n",
        "data_tensor = torch.tensor(data)\n",
        "\n",
        "# 建立假的標註資料，因為 GAN 訓練中標籤通常在訓練的過程中會自己生成\n",
        "labels = torch.zeros(data_tensor.size(0), dtype=torch.float32)\n",
        "\n",
        "# 建立TensorDataset和DataLoader\n",
        "dataset = TensorDataset(data_tensor, labels)\n",
        "data_loader = DataLoader(dataset, batch_size=64, shuffle=True)"
      ]
    },
    {
      "cell_type": "markdown",
      "metadata": {
        "id": "rf2TKL79GM3Q"
      },
      "source": [
        "#### 建構鑑別器 (discriminator) 神經網路"
      ]
    },
    {
      "cell_type": "markdown",
      "metadata": {
        "id": "9CC1iT96GM3Q"
      },
      "source": [
        "##### 這個鑑別器有三層卷積層\n",
        "    卷積層的深度(feature map depth為64)，所以在第一層隱藏層有64個特徵，接著逐層倍增\n",
        "    選用Sigmoid原因為辨別器的任務皆為二元分類，因此輸出層只需要一個神經元[連結文字](https://)"
      ]
    },
    {
      "cell_type": "code",
      "execution_count": null,
      "metadata": {
        "id": "9dQjVinHGM3Q"
      },
      "outputs": [],
      "source": [
        "class Discriminator(nn.Module):\n",
        "    def __init__(self, depth=64):\n",
        "        super(Discriminator, self).__init__()\n",
        "        self.model = nn.Sequential(\n",
        "\n",
        "            nn.Conv2d(1, depth, kernel_size=3, stride=2, padding=1),\n",
        "            nn.BatchNorm2d(depth),\n",
        "            nn.LeakyReLU(0.2),\n",
        "\n",
        "            nn.Conv2d(depth, depth * 2, kernel_size=3, stride=2, padding=1),\n",
        "            nn.BatchNorm2d(depth * 2),\n",
        "            nn.LeakyReLU(0.2),\n",
        "\n",
        "            nn.Conv2d(depth * 2, depth * 4, kernel_size=3, stride=2, padding=1),\n",
        "            nn.BatchNorm2d(depth * 4),\n",
        "            nn.LeakyReLU(0.2),\n",
        "\n",
        "            nn.Flatten(),\n",
        "            nn.Linear(depth * 4 * 4 * 4, 1),\n",
        "            nn.Sigmoid()\n",
        "\n",
        "        )\n",
        "\n",
        "    def forward(self, img):\n",
        "        validity = self.model(img)\n",
        "        return validity\n"
      ]
    },
    {
      "cell_type": "markdown",
      "metadata": {
        "id": "FqA9zKXTGM3R"
      },
      "source": [
        "#### 建構生成器 (generator) 神經網路"
      ]
    },
    {
      "cell_type": "markdown",
      "metadata": {
        "id": "btwitTRUGM3R"
      },
      "source": [
        "##### 使用 nn.Upsample 來增大特徵圖的尺寸，然後接一般的卷積層 nn.Conv2d 來處理這些放大後的特徵圖\n",
        "    latent_dim=100: 輸入向量的維度，即隱藏空間的大小\n",
        "    使用上採樣(Upsample)和標準卷積層的組合來生成所需尺寸的圖像\n",
        "    實現從緊湊的隱藏特徵映射到更大空間尺寸的圖像，但與反卷積層相比，使用上採樣和標準卷積層的組合通常能更好地控制生成圖像的質量，避免典型的反卷積層可能帶來的棋盤效應（checkerboard artifacts）"
      ]
    },
    {
      "cell_type": "code",
      "execution_count": null,
      "metadata": {
        "id": "98trKnx-GM3R"
      },
      "outputs": [],
      "source": [
        "class Generator(nn.Module):\n",
        "    def __init__(self, latent_dim=100, depth=64, init_size=7): #可以調\n",
        "        super(Generator, self).__init__()\n",
        "        self.init_size = init_size\n",
        "        self.l1 = nn.Sequential(nn.Linear(latent_dim, depth * init_size ** 2))\n",
        "        self.conv_blocks = nn.Sequential(\n",
        "\n",
        "            nn.BatchNorm2d(depth),\n",
        "            nn.ReLU(),\n",
        "            nn.Upsample(scale_factor=2),\n",
        "\n",
        "            nn.Conv2d(depth, depth // 2, kernel_size=3, stride=1, padding=1),\n",
        "            nn.BatchNorm2d(depth // 2),\n",
        "            nn.ReLU(),\n",
        "            nn.Upsample(scale_factor=2),\n",
        "\n",
        "            nn.Conv2d(depth // 2, depth // 4, kernel_size=3, stride=1, padding=1),\n",
        "            nn.BatchNorm2d(depth // 4),\n",
        "            nn.ReLU(),\n",
        "            nn.Conv2d(depth // 4, 1, kernel_size=3, stride=1, padding=1),\n",
        "            nn.Sigmoid()\n",
        "\n",
        "\n",
        "        )\n",
        "\n",
        "    def forward(self, z):\n",
        "        out = self.l1(z)\n",
        "        out = out.view(out.shape[0], 64, self.init_size, self.init_size)\n",
        "        img = self.conv_blocks(out)\n",
        "        return img"
      ]
    },
    {
      "cell_type": "markdown",
      "metadata": {
        "id": "utSy29oUGM3R"
      },
      "source": [
        "#### 定義 train() 函式並進行 GAN 的訓練"
      ]
    },
    {
      "cell_type": "code",
      "execution_count": null,
      "metadata": {
        "id": "dcRVb0PlGM3R",
        "colab": {
          "base_uri": "https://localhost:8080/"
        },
        "outputId": "8e01a4e8-6f3c-43dd-8c6c-57bbccf9f8d6"
      },
      "outputs": [
        {
          "output_type": "stream",
          "name": "stdout",
          "text": [
            "----------------------------------------------------------------\n",
            "        Layer (type)               Output Shape         Param #\n",
            "================================================================\n",
            "            Linear-1                 [-1, 3136]         316,736\n",
            "       BatchNorm2d-2             [-1, 64, 7, 7]             128\n",
            "              ReLU-3             [-1, 64, 7, 7]               0\n",
            "          Upsample-4           [-1, 64, 14, 14]               0\n",
            "            Conv2d-5           [-1, 32, 14, 14]          18,464\n",
            "       BatchNorm2d-6           [-1, 32, 14, 14]              64\n",
            "              ReLU-7           [-1, 32, 14, 14]               0\n",
            "          Upsample-8           [-1, 32, 28, 28]               0\n",
            "            Conv2d-9           [-1, 16, 28, 28]           4,624\n",
            "      BatchNorm2d-10           [-1, 16, 28, 28]              32\n",
            "             ReLU-11           [-1, 16, 28, 28]               0\n",
            "           Conv2d-12            [-1, 1, 28, 28]             145\n",
            "          Sigmoid-13            [-1, 1, 28, 28]               0\n",
            "================================================================\n",
            "Total params: 340,193\n",
            "Trainable params: 340,193\n",
            "Non-trainable params: 0\n",
            "----------------------------------------------------------------\n",
            "Input size (MB): 0.00\n",
            "Forward/backward pass size (MB): 0.80\n",
            "Params size (MB): 1.30\n",
            "Estimated Total Size (MB): 2.10\n",
            "----------------------------------------------------------------\n",
            "----------------------------------------------------------------\n",
            "        Layer (type)               Output Shape         Param #\n",
            "================================================================\n",
            "            Conv2d-1           [-1, 64, 14, 14]             640\n",
            "       BatchNorm2d-2           [-1, 64, 14, 14]             128\n",
            "         LeakyReLU-3           [-1, 64, 14, 14]               0\n",
            "            Conv2d-4            [-1, 128, 7, 7]          73,856\n",
            "       BatchNorm2d-5            [-1, 128, 7, 7]             256\n",
            "         LeakyReLU-6            [-1, 128, 7, 7]               0\n",
            "            Conv2d-7            [-1, 256, 4, 4]         295,168\n",
            "       BatchNorm2d-8            [-1, 256, 4, 4]             512\n",
            "         LeakyReLU-9            [-1, 256, 4, 4]               0\n",
            "          Flatten-10                 [-1, 4096]               0\n",
            "           Linear-11                    [-1, 1]           4,097\n",
            "          Sigmoid-12                    [-1, 1]               0\n",
            "================================================================\n",
            "Total params: 374,657\n",
            "Trainable params: 374,657\n",
            "Non-trainable params: 0\n",
            "----------------------------------------------------------------\n",
            "Input size (MB): 0.00\n",
            "Forward/backward pass size (MB): 0.56\n",
            "Params size (MB): 1.43\n",
            "Estimated Total Size (MB): 1.99\n",
            "----------------------------------------------------------------\n"
          ]
        }
      ],
      "source": [
        "device = torch.device(\"cuda\" if torch.cuda.is_available() else \"cpu\")\n",
        "# 建立模型\n",
        "latent_dim = 100\n",
        "G = Generator(latent_dim).to(device)\n",
        "D = Discriminator().to(device)\n",
        "\n",
        "# 優化器設定\n",
        "lr = 0.001\n",
        "b1 = 0.5\n",
        "b2 = 0.999\n",
        "G_optimizer = optim.Adam(G.parameters(), lr=lr, betas=(b1, b2))\n",
        "D_optimizer = optim.Adam(D.parameters(), lr=lr, betas=(b1, b2))\n",
        "\n",
        "# 損失函數\n",
        "criterion = nn.BCELoss()\n",
        "\n",
        "summary(G, input_size=(latent_dim,))\n",
        "summary(D, input_size=(1, 28, 28))\n",
        "\n"
      ]
    },
    {
      "cell_type": "code",
      "execution_count": null,
      "metadata": {
        "id": "7SrMXM1yGM3R",
        "colab": {
          "base_uri": "https://localhost:8080/"
        },
        "outputId": "a6f5c47e-ff39-4a11-b058-e7d4c6c0127e"
      },
      "outputs": [
        {
          "output_type": "stream",
          "name": "stdout",
          "text": [
            "----------------------------------------------------------------\n",
            "        Layer (type)               Output Shape         Param #\n",
            "================================================================\n",
            "            Conv2d-1           [-1, 64, 14, 14]             640\n",
            "       BatchNorm2d-2           [-1, 64, 14, 14]             128\n",
            "         LeakyReLU-3           [-1, 64, 14, 14]               0\n",
            "            Conv2d-4            [-1, 128, 7, 7]          73,856\n",
            "       BatchNorm2d-5            [-1, 128, 7, 7]             256\n",
            "         LeakyReLU-6            [-1, 128, 7, 7]               0\n",
            "            Conv2d-7            [-1, 256, 4, 4]         295,168\n",
            "       BatchNorm2d-8            [-1, 256, 4, 4]             512\n",
            "         LeakyReLU-9            [-1, 256, 4, 4]               0\n",
            "          Flatten-10                 [-1, 4096]               0\n",
            "           Linear-11                    [-1, 1]           4,097\n",
            "          Sigmoid-12                    [-1, 1]               0\n",
            "================================================================\n",
            "Total params: 374,657\n",
            "Trainable params: 374,657\n",
            "Non-trainable params: 0\n",
            "----------------------------------------------------------------\n",
            "Input size (MB): 0.00\n",
            "Forward/backward pass size (MB): 0.56\n",
            "Params size (MB): 1.43\n",
            "Estimated Total Size (MB): 1.99\n",
            "----------------------------------------------------------------\n"
          ]
        }
      ],
      "source": [
        "summary(D, input_size=(1, 28, 28))"
      ]
    },
    {
      "cell_type": "code",
      "execution_count": null,
      "metadata": {
        "id": "WsNPalhxGM3S",
        "colab": {
          "base_uri": "https://localhost:8080/",
          "height": 1000
        },
        "outputId": "04dee524-57aa-4f9d-9b51-bbaac949ae0d"
      },
      "outputs": [
        {
          "output_type": "stream",
          "name": "stdout",
          "text": [
            "Epoch 1, D Loss: 0.536324222365178, G Loss: 3.250313344528173, D Accuracy: 0.91\n",
            "Epoch 2, D Loss: 0.3442973838214054, G Loss: 3.83222283276403, D Accuracy: 0.95\n",
            "Epoch 3, D Loss: 0.25812713497115036, G Loss: 4.255267026310668, D Accuracy: 0.96\n",
            "Epoch 4, D Loss: 0.16250304791612152, G Loss: 4.927838855424121, D Accuracy: 0.98\n",
            "Epoch 5, D Loss: 0.21347602535501822, G Loss: 4.996283204494627, D Accuracy: 0.97\n",
            "Epoch 6, D Loss: 0.1287779243424719, G Loss: 5.451174498702111, D Accuracy: 0.98\n",
            "Epoch 7, D Loss: 0.20675385994872666, G Loss: 5.865125672285245, D Accuracy: 0.98\n",
            "Epoch 8, D Loss: 0.12271183027303767, G Loss: 6.061896549531602, D Accuracy: 0.99\n",
            "Epoch 9, D Loss: 0.11820690752038945, G Loss: 6.039272557949079, D Accuracy: 0.98\n",
            "Epoch 10, D Loss: 0.16922108024954252, G Loss: 6.009162992112136, D Accuracy: 0.98\n"
          ]
        },
        {
          "output_type": "display_data",
          "data": {
            "text/plain": [
              "<Figure size 500x500 with 1 Axes>"
            ],
            "image/png": "[encoded data removed]"
          },
          "metadata": {}
        },
        {
          "output_type": "stream",
          "name": "stdout",
          "text": [
            "Epoch 11, D Loss: 0.09440842625783125, G Loss: 6.659440736406966, D Accuracy: 0.99\n",
            "Epoch 12, D Loss: 0.06403960602840923, G Loss: 6.9023393863914775, D Accuracy: 0.99\n",
            "Epoch 13, D Loss: 0.07270058702392845, G Loss: 6.694861533444186, D Accuracy: 0.99\n",
            "Epoch 14, D Loss: 0.03956324206156588, G Loss: 7.408349340303734, D Accuracy: 0.99\n",
            "Epoch 15, D Loss: 0.11493433403178148, G Loss: 6.2512928271250106, D Accuracy: 0.98\n",
            "Epoch 16, D Loss: 0.08162107991570378, G Loss: 6.987054674042914, D Accuracy: 0.99\n",
            "Epoch 17, D Loss: 0.10086511078257411, G Loss: 7.285037119773705, D Accuracy: 0.99\n",
            "Epoch 18, D Loss: 0.043727590595391407, G Loss: 7.411063757871063, D Accuracy: 0.99\n",
            "Epoch 19, D Loss: 0.07328294758846123, G Loss: 7.075286447008094, D Accuracy: 0.99\n",
            "Epoch 20, D Loss: 0.07754753610479057, G Loss: 7.064637274825376, D Accuracy: 0.99\n"
          ]
        },
        {
          "output_type": "display_data",
          "data": {
            "text/plain": [
              "<Figure size 500x500 with 1 Axes>"
            ],
            "image/png": "[encoded data removed]"
          },
          "metadata": {}
        },
        {
          "output_type": "stream",
          "name": "stdout",
          "text": [
            "Epoch 21, D Loss: 0.07656525911966515, G Loss: 7.626916653612602, D Accuracy: 0.99\n",
            "Epoch 22, D Loss: 0.05532341437166125, G Loss: 7.609408095677113, D Accuracy: 0.99\n",
            "Epoch 23, D Loss: 0.09041370987500495, G Loss: 6.9793739553773095, D Accuracy: 0.99\n",
            "Epoch 24, D Loss: 0.07762210640395563, G Loss: 7.437351812048399, D Accuracy: 0.99\n",
            "Epoch 25, D Loss: 0.06415344395090154, G Loss: 8.171327905524535, D Accuracy: 0.99\n",
            "Epoch 26, D Loss: 0.6920094211264202, G Loss: 7.592628055207851, D Accuracy: 0.99\n",
            "Epoch 27, D Loss: 0.03880495335966149, G Loss: 7.46843679940194, D Accuracy: 1.00\n",
            "Epoch 28, D Loss: 0.12557170429590986, G Loss: 6.9790636997537145, D Accuracy: 0.99\n",
            "Epoch 29, D Loss: 0.06200035839667528, G Loss: 7.535362415728113, D Accuracy: 0.99\n",
            "Epoch 30, D Loss: 0.010406754628886346, G Loss: 8.076493525126887, D Accuracy: 1.00\n"
          ]
        },
        {
          "output_type": "display_data",
          "data": {
            "text/plain": [
              "<Figure size 500x500 with 1 Axes>"
            ],
            "image/png": "[encoded data removed]"
          },
          "metadata": {}
        },
        {
          "output_type": "stream",
          "name": "stdout",
          "text": [
            "Epoch 31, D Loss: 0.11650393423668123, G Loss: 6.815600234450554, D Accuracy: 0.98\n",
            "Epoch 32, D Loss: 17.546690123927263, G Loss: 6.973802342682027, D Accuracy: 0.91\n",
            "Epoch 33, D Loss: 100.0, G Loss: 0.0, D Accuracy: 0.50\n",
            "Saving model with D accuracy: 0.50...\n"
          ]
        }
      ],
      "source": [
        "best_model_path = 'best_model_0.5_acc.ckpt'\n",
        "\n",
        "epochs = 50\n",
        "for epoch in range(epochs):\n",
        "    D_running_loss = 0.0\n",
        "    G_running_loss = 0.0\n",
        "    D_correct = 0\n",
        "    D_total = 0\n",
        "\n",
        "    for real_images, _ in data_loader:\n",
        "        batch_size = real_images.size(0)\n",
        "        real_images = real_images.to(device)\n",
        "\n",
        "        # Train Discriminator\n",
        "        real_labels = torch.ones(batch_size, 1, device=device)\n",
        "        fake_labels = torch.zeros(batch_size, 1, device=device)\n",
        "\n",
        "        # Train with real images\n",
        "        D_real = D(real_images)\n",
        "        D_real_loss = criterion(D_real, real_labels)\n",
        "        real_predictions = D_real > 0.5\n",
        "        D_correct += real_predictions.sum().item()\n",
        "        D_total += batch_size\n",
        "\n",
        "        # Train with fake images\n",
        "        fake_images = G(torch.randn(batch_size, latent_dim, device=device))\n",
        "        D_fake = D(fake_images)\n",
        "        D_fake_loss = criterion(D_fake, fake_labels)\n",
        "        fake_predictions = D_fake < 0.5\n",
        "        D_correct += fake_predictions.sum().item()\n",
        "\n",
        "        D_loss = D_real_loss + D_fake_loss\n",
        "        D_running_loss += D_loss.item() * batch_size\n",
        "\n",
        "        D_optimizer.zero_grad()\n",
        "        D_loss.backward()\n",
        "        D_optimizer.step()\n",
        "\n",
        "        # Train Generator\n",
        "        fake_images = G(torch.randn(batch_size, latent_dim, device=device))\n",
        "        D_fake = D(fake_images)\n",
        "        G_loss = criterion(D_fake, real_labels)\n",
        "        G_running_loss += G_loss.item() * batch_size\n",
        "\n",
        "        G_optimizer.zero_grad()\n",
        "        G_loss.backward()\n",
        "        G_optimizer.step()\n",
        "\n",
        "    D_epoch_loss = D_running_loss / D_total\n",
        "    G_epoch_loss = G_running_loss / D_total\n",
        "    D_accuracy = D_correct / (2 * D_total)  # 因為真假圖像各占一半\n",
        "\n",
        "    print(f\"Epoch {epoch+1}, D Loss: {D_epoch_loss}, G Loss: {G_epoch_loss}, D Accuracy: {D_accuracy:.2f}\")\n",
        "\n",
        "\n",
        "    # 儲存最好的模型\n",
        "    if D_accuracy <= 0.5:\n",
        "        print(f\"Saving model with D accuracy: {D_accuracy:.2f}...\")\n",
        "        torch.save(D.state_dict(), best_model_path)\n",
        "        break\n",
        "\n",
        "    if (epoch + 1) % 10 == 0:\n",
        "        # Generate and display images\n",
        "        with torch.no_grad():\n",
        "            test_noise = torch.randn(16, latent_dim, device=device)\n",
        "            generated_images = G(test_noise)\n",
        "            generated_images = generated_images.detach().cpu()\n",
        "            grid = make_grid(generated_images, nrow=4, normalize=True)\n",
        "            plt.figure(figsize=(5, 5))\n",
        "            plt.imshow(grid.permute(1, 2, 0))\n",
        "            plt.axis('off')\n",
        "            plt.show()"
      ]
    }
  ],
  "metadata": {
    "kernelspec": {
      "display_name": "Python 3",
      "name": "python3"
    },
    "language_info": {
      "codemirror_mode": {
        "name": "ipython",
        "version": 3
      },
      "file_extension": ".py",
      "mimetype": "text/x-python",
      "name": "python",
      "nbconvert_exporter": "python",
      "pygments_lexer": "ipython3",
      "version": "3.8.16"
    },
    "colab": {
      "provenance": [],
      "gpuType": "L4",
      "include_colab_link": true
    },
    "accelerator": "GPU"
  },
  "nbformat": 4,
  "nbformat_minor": 0
}